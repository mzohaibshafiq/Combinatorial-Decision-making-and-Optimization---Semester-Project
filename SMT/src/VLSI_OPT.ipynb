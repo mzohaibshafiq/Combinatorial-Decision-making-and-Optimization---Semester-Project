{
 "cells": [
  {
   "cell_type": "markdown",
   "metadata": {
    "id": "e6hq2BjlFd4D"
   },
   "source": [
    "# **Z3 Library **"
   ]
  },
  {
   "cell_type": "code",
   "execution_count": 1,
   "metadata": {
    "id": "KDB2-5vWFXqB"
   },
   "outputs": [],
   "source": [
    "from z3 import *"
   ]
  },
  {
   "cell_type": "markdown",
   "metadata": {
    "id": "cjot4Ne3FkGl"
   },
   "source": [
    "# **Importing data**"
   ]
  },
  {
   "cell_type": "code",
   "execution_count": 2,
   "metadata": {
    "id": "BBaCs-KnFXqK"
   },
   "outputs": [],
   "source": [
    "instance = 24\n",
    "inst_str = 'ins-' + str(instance) + '.txt'\n",
    "dir = 'Instances/'\n",
    "with open(dir + inst_str) as f:\n",
    "    data = f.readlines()\n",
    "data = [x.strip() for x in data]\n",
    "data = [x for x in data if x]\n",
    "width = int(data[0])\n",
    "num_circuits = int(data[1])\n",
    "circuitX = []\n",
    "circuitY = []\n",
    "for i in range(2, len(data)):\n",
    "    circuitX.append(int(data[i].split(' ')[0]))\n",
    "    circuitY.append(int(data[i].split(' ')[1]))"
   ]
  },
  {
   "cell_type": "markdown",
   "metadata": {
    "id": "ABzWa7C-Fo-5"
   },
   "source": [
    "# **Variables**"
   ]
  },
  {
   "cell_type": "code",
   "execution_count": 3,
   "metadata": {
    "id": "NeBFq_N1FXqN"
   },
   "outputs": [],
   "source": [
    "X = [z3.Int('X_%s' % i) for i in range(num_circuits)]\n",
    "Y = [z3.Int('Y_%s' % i) for i in range(num_circuits)]\n",
    "Height = Int('Height')"
   ]
  },
  {
   "cell_type": "markdown",
   "metadata": {
    "id": "HxHdmsAQFwSR"
   },
   "source": [
    "# **Main Problem constraints**"
   ]
  },
  {
   "cell_type": "code",
   "execution_count": 4,
   "metadata": {
    "id": "O8a4rfZEFXqQ"
   },
   "outputs": [],
   "source": [
    "min_height = max(circuitY)\n",
    "max_height = sum(circuitY)\n",
    "ext = []\n",
    "ext.append(And(Height>=min_height,Height<=max_height))"
   ]
  },
  {
   "cell_type": "code",
   "execution_count": 5,
   "metadata": {
    "id": "E9EH8KReFXqS"
   },
   "outputs": [],
   "source": [
    "domain = [ And(X[i] >= 0, X[i] < width, Y[i] >= 0, Y[i] < Height)\n",
    "             for i in range(num_circuits)] "
   ]
  },
  {
   "cell_type": "code",
   "execution_count": 6,
   "metadata": {
    "id": "P2jL6EH1FXqT"
   },
   "outputs": [],
   "source": [
    "circuit_dim = [And(circuitX[i] + X[i] <= width, circuitY[i] + Y[i]<=Height)for i in range(num_circuits) ]"
   ]
  },
  {
   "cell_type": "code",
   "execution_count": 7,
   "metadata": {
    "id": "2ttBMv2UFXqW"
   },
   "outputs": [],
   "source": [
    "non_overlap = []\n",
    "for i in range(num_circuits):\n",
    "    for j in range(num_circuits):\n",
    "        if (i<j):\n",
    "            non_overlap.append(Or(X[i] + circuitX[i]  <= X[j], X[j] + circuitX[j] <= X[i], Y[i] + circuitY[i] <= Y[j], Y[j] + circuitY[j] <= Y[i]))"
   ]
  },
  {
   "cell_type": "code",
   "execution_count": 8,
   "metadata": {
    "id": "StlODFQ7FXqZ"
   },
   "outputs": [],
   "source": [
    "implied = []\n",
    "for i in range(width):\n",
    "    for j in range(num_circuits):\n",
    "        implied.append(Sum([If(And(X[j] <= i, i < X[j] + circuitX[j]), circuitY[j],0) for j in range(num_circuits)]) <= Height)\n",
    "\n",
    "for i in range(num_circuits):\n",
    "    for j in range(num_circuits):\n",
    "        implied.append(Sum([If(And(Y[j] <= i, i < Y[j] + circuitY[j]), circuitX[j],0) for j in range(num_circuits)]) <= width)"
   ]
  },
  {
   "cell_type": "code",
   "execution_count": 9,
   "metadata": {
    "id": "JJcnPn1LFXqc"
   },
   "outputs": [],
   "source": [
    "sym=[]\n",
    "for i in range(num_circuits):\n",
    "    for j in range(num_circuits):\n",
    "        if (i<j):\n",
    "            sym.append(Or(Not(And(circuitX[i] == circuitX[j], circuitY[i] == circuitY[j])), If(X[i] == X[j], Y[i] >= Y[j], X[i] > X[j])))"
   ]
  },
  {
   "cell_type": "code",
   "execution_count": 10,
   "metadata": {
    "id": "gpyYW4sDFXqe"
   },
   "outputs": [],
   "source": [
    "constraints =  ext+domain+circuit_dim+non_overlap+implied+sym"
   ]
  },
  {
   "cell_type": "markdown",
   "metadata": {
    "id": "s4Kvynq1F2rR"
   },
   "source": [
    "# **Objective Function**"
   ]
  },
  {
   "cell_type": "code",
   "execution_count": 11,
   "metadata": {
    "id": "MR4SdIctFXqf",
    "outputId": "c84add18-681d-4b9c-b51b-1d804a22682c"
   },
   "outputs": [
    {
     "data": {
      "text/plain": [
       "<z3.z3.OptimizeObjective at 0x2a45990bc40>"
      ]
     },
     "execution_count": 11,
     "metadata": {},
     "output_type": "execute_result"
    }
   ],
   "source": [
    "s = Optimize()\n",
    "s.add(constraints)\n",
    "s.minimize(Height)"
   ]
  },
  {
   "cell_type": "markdown",
   "metadata": {
    "id": "55m0ot9HF7l_"
   },
   "source": [
    "# **Output**"
   ]
  },
  {
   "cell_type": "code",
   "execution_count": 12,
   "metadata": {
    "id": "_-KXGUubFXqg"
   },
   "outputs": [],
   "source": [
    "inst_str = 'inst-' + str(instance) + '.txt'\n",
    "dir = 'Output/'\n",
    "o = open(dir + inst_str, 'w')"
   ]
  },
  {
   "cell_type": "code",
   "execution_count": 13,
   "metadata": {
    "id": "Jk_y4P16FXqg"
   },
   "outputs": [
    {
     "name": "stdout",
     "output_type": "stream",
     "text": [
      "31 31\n",
      "19\n",
      "3 3   3 17\n",
      "3 4   3 0 \n",
      "3 5   3 12\n",
      "3 6   25 0 \n",
      "3 7   28 24\n",
      "3 8   3 4 \n",
      "3 9   0 0 \n",
      "3 10  28 14\n",
      "3 11  3 20\n",
      "3 12  25 19\n",
      "3 13  25 6 \n",
      "3 14  28 0 \n",
      "3 22  0 9 \n",
      "3 31  6 0 \n",
      "4 3   9 15\n",
      "4 7   9 0 \n",
      "4 8   9 7 \n",
      "4 13  9 18\n",
      "12 31  13 0 \n"
     ]
    }
   ],
   "source": [
    "if s.check() == sat:\n",
    "    m = s.model()\n",
    "    print(\"{} {}\".format(width, str(m[Height])))\n",
    "    o.write((\"{} {}\".format(width, str(m[Height]))) + '\\n')\n",
    "    print(\"{}\".format(num_circuits))\n",
    "    o.write((\"{}\".format(num_circuits)) + '\\n')\n",
    "    for i in range(num_circuits):\n",
    "        print(\"{:<1} {:<3} {:<1} {:<2}\".format(circuitX[i], circuitY[i], str(m[X[i]]), str(m[Y[i]])))\n",
    "        o.write((\"{:<1} {:<3} {:<1} {:<2}\".format(circuitX[i], circuitY[i], str(m[X[i]]), str(m[Y[i]])))+'\\n')\n",
    "    o.close()\n",
    "else: \n",
    "    print(\"Failed\")"
   ]
  },
  {
   "cell_type": "raw",
   "metadata": {
    "id": "Z00mbhnsFXqh"
   },
   "source": []
  }
 ],
 "metadata": {
  "colab": {
   "name": "VLSI-OPT.ipynb",
   "provenance": []
  },
  "kernelspec": {
   "display_name": "Python 3",
   "language": "python",
   "name": "python3"
  },
  "language_info": {
   "codemirror_mode": {
    "name": "ipython",
    "version": 3
   },
   "file_extension": ".py",
   "mimetype": "text/x-python",
   "name": "python",
   "nbconvert_exporter": "python",
   "pygments_lexer": "ipython3",
   "version": "3.8.3"
  }
 },
 "nbformat": 4,
 "nbformat_minor": 1
}
