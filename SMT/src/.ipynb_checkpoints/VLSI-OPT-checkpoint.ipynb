{
 "cells": [
  {
   "cell_type": "code",
   "execution_count": 1,
   "metadata": {},
   "outputs": [],
   "source": [
    "from z3 import *"
   ]
  },
  {
   "cell_type": "code",
   "execution_count": 2,
   "metadata": {},
   "outputs": [],
   "source": [
    "instance = 28\n",
    "inst_str = 'ins-' + str(instance) + '.txt'\n",
    "dir = 'Instances/'\n",
    "with open(dir + inst_str) as f:\n",
    "    data = f.readlines()\n",
    "data = [x.strip() for x in data]\n",
    "data = [x for x in data if x]\n",
    "width = int(data[0])\n",
    "num_circuits = int(data[1])\n",
    "circuitX = []\n",
    "circuitY = []\n",
    "for i in range(2, len(data)):\n",
    "    circuitX.append(int(data[i].split(' ')[0]))\n",
    "    circuitY.append(int(data[i].split(' ')[1]))"
   ]
  },
  {
   "cell_type": "code",
   "execution_count": 3,
   "metadata": {},
   "outputs": [],
   "source": [
    "X = [z3.Int('X_%s' % i) for i in range(num_circuits)]\n",
    "Y = [z3.Int('Y_%s' % i) for i in range(num_circuits)]\n",
    "Height = Int('Height')"
   ]
  },
  {
   "cell_type": "code",
   "execution_count": 4,
   "metadata": {},
   "outputs": [],
   "source": [
    "min_height = max(circuitY)\n",
    "max_height = sum(circuitY)\n",
    "ext = []\n",
    "ext.append(Height<=max_height)\n",
    "#ext.append(Height<=width)"
   ]
  },
  {
   "cell_type": "code",
   "execution_count": 5,
   "metadata": {},
   "outputs": [],
   "source": [
    "domain = [ And(X[i] >= 0, X[i] < width, Y[i] >= 0, Y[i] < Height)\n",
    "             for i in range(num_circuits)] "
   ]
  },
  {
   "cell_type": "code",
   "execution_count": 6,
   "metadata": {},
   "outputs": [],
   "source": [
    "circuit_dim = [And(circuitX[i] + X[i] <= width, circuitY[i] + Y[i]<=Height)for i in range(num_circuits) ]"
   ]
  },
  {
   "cell_type": "code",
   "execution_count": 7,
   "metadata": {},
   "outputs": [],
   "source": [
    "non_overlap = []\n",
    "for i in range(num_circuits):\n",
    "    for j in range(num_circuits):\n",
    "        if (i<j):\n",
    "            non_overlap.append(Or(X[i] + circuitX[i]  <= X[j], X[j] + circuitX[j] <= X[i], Y[i] + circuitY[i] <= Y[j], Y[j] + circuitY[j] <= Y[i]))"
   ]
  },
  {
   "cell_type": "code",
   "execution_count": 8,
   "metadata": {},
   "outputs": [],
   "source": [
    "implied = []\n",
    "for i in range(width):\n",
    "    for j in range(num_circuits):\n",
    "        implied.append(Sum([If(And(X[j] <= i, i < X[j] + circuitX[j]), circuitY[j],0) for j in range(num_circuits)]) <= Height)\n",
    "\n",
    "for i in range(num_circuits):\n",
    "    for j in range(num_circuits):\n",
    "        implied.append(Sum([If(And(Y[j] <= i, i < Y[j] + circuitY[j]), circuitX[j],0) for j in range(num_circuits)]) <= width)"
   ]
  },
  {
   "cell_type": "code",
   "execution_count": 9,
   "metadata": {},
   "outputs": [],
   "source": [
    "sym=[]\n",
    "for i in range(num_circuits):\n",
    "    for j in range(num_circuits):\n",
    "        if (i<j):\n",
    "            sym.append(Or(Not(And(circuitX[i] == circuitX[j], circuitY[i] == circuitY[j])), If(X[i] == X[j], Y[i] >= Y[j], X[i] > X[j])))"
   ]
  },
  {
   "cell_type": "code",
   "execution_count": 10,
   "metadata": {},
   "outputs": [],
   "source": [
    "constraints =  circuit_dim+non_overlap+implied+domain+ext+sym"
   ]
  },
  {
   "cell_type": "code",
   "execution_count": 11,
   "metadata": {},
   "outputs": [
    {
     "data": {
      "text/plain": [
       "<z3.z3.OptimizeObjective at 0x1d3712227f0>"
      ]
     },
     "execution_count": 11,
     "metadata": {},
     "output_type": "execute_result"
    }
   ],
   "source": [
    "s = Optimize()\n",
    "s.add(constraints)\n",
    "s.minimize(Height)"
   ]
  },
  {
   "cell_type": "code",
   "execution_count": 12,
   "metadata": {},
   "outputs": [],
   "source": [
    "inst_str = 'inst-' + str(instance) + '.txt'\n",
    "dir = 'Output/'\n",
    "o = open(dir + inst_str, 'w')"
   ]
  },
  {
   "cell_type": "code",
   "execution_count": null,
   "metadata": {},
   "outputs": [],
   "source": [
    "if s.check() == sat:\n",
    "    m = s.model()\n",
    "    print(\"{} {}\".format(width, str(m[Height])))\n",
    "    o.write((\"{} {}\".format(width, str(m[Height]))) + '\\n')\n",
    "    print(\"{}\".format(num_circuits))\n",
    "    o.write((\"{}\".format(num_circuits)) + '\\n')\n",
    "    for i in range(num_circuits):\n",
    "        print(\"{:<1} {:<3} {:<1} {:<2}\".format(circuitX[i], circuitY[i], str(m[X[i]]), str(m[Y[i]])))\n",
    "        o.write((\"{:<1} {:<3} {:<1} {:<2}\".format(circuitX[i], circuitY[i], str(m[X[i]]), str(m[Y[i]])))+'\\n')\n",
    "    o.close()\n",
    "    print(s.statistics())\n",
    "else: \n",
    "    print(\"Failed\")"
   ]
  },
  {
   "cell_type": "raw",
   "metadata": {},
   "source": []
  }
 ],
 "metadata": {
  "kernelspec": {
   "display_name": "Python 3",
   "language": "python",
   "name": "python3"
  },
  "language_info": {
   "codemirror_mode": {
    "name": "ipython",
    "version": 3
   },
   "file_extension": ".py",
   "mimetype": "text/x-python",
   "name": "python",
   "nbconvert_exporter": "python",
   "pygments_lexer": "ipython3",
   "version": "3.8.3"
  }
 },
 "nbformat": 4,
 "nbformat_minor": 4
}
